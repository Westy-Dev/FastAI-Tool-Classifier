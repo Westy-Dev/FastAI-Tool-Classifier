{
 "cells": [
  {
   "cell_type": "code",
   "execution_count": 1,
   "id": "0dab9129-9ae0-49f1-af73-d290f806f408",
   "metadata": {},
   "outputs": [],
   "source": [
    "import sys\n",
    "!which {sys.executable}\n",
    "!{sys.executable} -m pip install fastbook fastai graphviz voila\n",
    "!{sys.executable} -m jupyter serverextension enable voila --sys-prefix\n",
    "import fastbook\n",
    "fastbook.setup_book()\n",
    "\n",
    "from fastbook import *\n",
    "from fastai.vision.widgets import *"
   ]
  },
  {
   "cell_type": "code",
   "execution_count": 2,
   "id": "19f13c2c-dbc6-4ffe-a7ea-a9066c56602a",
   "metadata": {},
   "outputs": [
    {
     "data": {
      "application/vnd.jupyter.widget-view+json": {
       "model_id": "671b62280fbc4f249587cf3c79b532e3",
       "version_major": 2,
       "version_minor": 0
      },
      "text/plain": [
       "VBox(children=(Label(value='Select your valve tool to categorise!'), FileUpload(value={}, description='Upload'…"
      ]
     },
     "metadata": {},
     "output_type": "display_data"
    }
   ],
   "source": [
    "path = Path()\n",
    "path.ls(file_exts='.pkl')\n",
    "\n",
    "learn_inf = load_learner(path/'export.pkl')\n",
    "btn_run = widgets.Button(description='Classify')\n",
    "lbl_pred = widgets.Label()\n",
    "out_pl = widgets.Output()\n",
    "\n",
    "def on_click_classify(change):\n",
    "    img = PILImage.create(btn_upload.data[-1])\n",
    "    out_pl.clear_output()\n",
    "    with out_pl: display(img.to_thumb(128,128))\n",
    "    pred,pred_idx,probs = learn_inf.predict(img)\n",
    "    lbl_pred.value = f'Prediction: {pred}; Probability: {probs[pred_idx]:.04f}'\n",
    "\n",
    "btn_run.on_click(on_click_classify)\n",
    "\n",
    "#Putting back btn_upload to a widget for next cell\n",
    "btn_upload = widgets.FileUpload()\n",
    "\n",
    "VBox([widgets.Label('Select your valve tool to categorise!'), \n",
    "      btn_upload, btn_run, out_pl, lbl_pred])"
   ]
  },
  {
   "cell_type": "code",
   "execution_count": 5,
   "id": "f4debfe3-aa3b-4ec9-9986-278307fd9879",
   "metadata": {},
   "outputs": [
    {
     "name": "stdout",
     "output_type": "stream",
     "text": [
      "Requirement already satisfied: voila in /anaconda/envs/fastai2/lib/python3.7/site-packages (0.2.10)\n",
      "Requirement already satisfied: jupyter-client<7,>=6.1.3 in /anaconda/envs/fastai2/lib/python3.7/site-packages (from voila) (6.1.12)\n",
      "Requirement already satisfied: jupyter-server<2.0.0,>=0.3.0 in /anaconda/envs/fastai2/lib/python3.7/site-packages (from voila) (1.9.0)\n",
      "Requirement already satisfied: nbconvert<7,>=6.0.0 in /anaconda/envs/fastai2/lib/python3.7/site-packages (from voila) (6.1.0)\n",
      "Requirement already satisfied: nbclient<0.6,>=0.4.0 in /anaconda/envs/fastai2/lib/python3.7/site-packages (from voila) (0.5.3)\n",
      "Requirement already satisfied: traitlets in /anaconda/envs/fastai2/lib/python3.7/site-packages (from jupyter-client<7,>=6.1.3->voila) (5.0.5)\n",
      "Requirement already satisfied: jupyter-core>=4.6.0 in /anaconda/envs/fastai2/lib/python3.7/site-packages (from jupyter-client<7,>=6.1.3->voila) (4.7.1)\n",
      "Requirement already satisfied: python-dateutil>=2.1 in /anaconda/envs/fastai2/lib/python3.7/site-packages (from jupyter-client<7,>=6.1.3->voila) (2.8.2)\n",
      "Requirement already satisfied: pyzmq>=13 in /anaconda/envs/fastai2/lib/python3.7/site-packages (from jupyter-client<7,>=6.1.3->voila) (22.1.0)\n",
      "Requirement already satisfied: tornado>=4.1 in /anaconda/envs/fastai2/lib/python3.7/site-packages (from jupyter-client<7,>=6.1.3->voila) (6.1)\n",
      "Requirement already satisfied: nbformat in /anaconda/envs/fastai2/lib/python3.7/site-packages (from jupyter-server<2.0.0,>=0.3.0->voila) (5.1.3)\n",
      "Requirement already satisfied: Send2Trash in /anaconda/envs/fastai2/lib/python3.7/site-packages (from jupyter-server<2.0.0,>=0.3.0->voila) (1.7.1)\n",
      "Requirement already satisfied: websocket-client in /anaconda/envs/fastai2/lib/python3.7/site-packages (from jupyter-server<2.0.0,>=0.3.0->voila) (1.1.0)\n",
      "Requirement already satisfied: requests-unixsocket in /anaconda/envs/fastai2/lib/python3.7/site-packages (from jupyter-server<2.0.0,>=0.3.0->voila) (0.2.0)\n",
      "Requirement already satisfied: argon2-cffi in /anaconda/envs/fastai2/lib/python3.7/site-packages (from jupyter-server<2.0.0,>=0.3.0->voila) (20.1.0)\n",
      "Requirement already satisfied: anyio<4,>=3.1.0 in /anaconda/envs/fastai2/lib/python3.7/site-packages (from jupyter-server<2.0.0,>=0.3.0->voila) (3.2.1)\n",
      "Requirement already satisfied: jinja2 in /anaconda/envs/fastai2/lib/python3.7/site-packages (from jupyter-server<2.0.0,>=0.3.0->voila) (3.0.1)\n",
      "Requirement already satisfied: prometheus-client in /anaconda/envs/fastai2/lib/python3.7/site-packages (from jupyter-server<2.0.0,>=0.3.0->voila) (0.11.0)\n",
      "Requirement already satisfied: ipython-genutils in /anaconda/envs/fastai2/lib/python3.7/site-packages (from jupyter-server<2.0.0,>=0.3.0->voila) (0.2.0)\n",
      "Requirement already satisfied: terminado>=0.8.3 in /anaconda/envs/fastai2/lib/python3.7/site-packages (from jupyter-server<2.0.0,>=0.3.0->voila) (0.10.1)\n",
      "Requirement already satisfied: sniffio>=1.1 in /anaconda/envs/fastai2/lib/python3.7/site-packages (from anyio<4,>=3.1.0->jupyter-server<2.0.0,>=0.3.0->voila) (1.2.0)\n",
      "Requirement already satisfied: typing-extensions in /anaconda/envs/fastai2/lib/python3.7/site-packages (from anyio<4,>=3.1.0->jupyter-server<2.0.0,>=0.3.0->voila) (3.10.0.0)\n",
      "Requirement already satisfied: idna>=2.8 in /anaconda/envs/fastai2/lib/python3.7/site-packages (from anyio<4,>=3.1.0->jupyter-server<2.0.0,>=0.3.0->voila) (3.2)\n",
      "Requirement already satisfied: async-generator in /anaconda/envs/fastai2/lib/python3.7/site-packages (from nbclient<0.6,>=0.4.0->voila) (1.10)\n",
      "Requirement already satisfied: nest-asyncio in /anaconda/envs/fastai2/lib/python3.7/site-packages (from nbclient<0.6,>=0.4.0->voila) (1.5.1)\n",
      "Requirement already satisfied: jupyterlab-pygments in /anaconda/envs/fastai2/lib/python3.7/site-packages (from nbconvert<7,>=6.0.0->voila) (0.1.2)\n",
      "Requirement already satisfied: defusedxml in /anaconda/envs/fastai2/lib/python3.7/site-packages (from nbconvert<7,>=6.0.0->voila) (0.7.1)\n",
      "Requirement already satisfied: pandocfilters>=1.4.1 in /anaconda/envs/fastai2/lib/python3.7/site-packages (from nbconvert<7,>=6.0.0->voila) (1.4.3)\n",
      "Requirement already satisfied: entrypoints>=0.2.2 in /anaconda/envs/fastai2/lib/python3.7/site-packages (from nbconvert<7,>=6.0.0->voila) (0.3)\n",
      "Requirement already satisfied: mistune<2,>=0.8.1 in /anaconda/envs/fastai2/lib/python3.7/site-packages (from nbconvert<7,>=6.0.0->voila) (0.8.4)\n",
      "Requirement already satisfied: testpath in /anaconda/envs/fastai2/lib/python3.7/site-packages (from nbconvert<7,>=6.0.0->voila) (0.5.0)\n",
      "Requirement already satisfied: pygments>=2.4.1 in /anaconda/envs/fastai2/lib/python3.7/site-packages (from nbconvert<7,>=6.0.0->voila) (2.9.0)\n",
      "Requirement already satisfied: bleach in /anaconda/envs/fastai2/lib/python3.7/site-packages (from nbconvert<7,>=6.0.0->voila) (3.3.1)\n",
      "Requirement already satisfied: MarkupSafe>=2.0 in /anaconda/envs/fastai2/lib/python3.7/site-packages (from jinja2->jupyter-server<2.0.0,>=0.3.0->voila) (2.0.1)\n",
      "Requirement already satisfied: jsonschema!=2.5.0,>=2.4 in /anaconda/envs/fastai2/lib/python3.7/site-packages (from nbformat->jupyter-server<2.0.0,>=0.3.0->voila) (3.2.0)\n",
      "Requirement already satisfied: six>=1.11.0 in /anaconda/envs/fastai2/lib/python3.7/site-packages (from jsonschema!=2.5.0,>=2.4->nbformat->jupyter-server<2.0.0,>=0.3.0->voila) (1.16.0)\n",
      "Requirement already satisfied: attrs>=17.4.0 in /anaconda/envs/fastai2/lib/python3.7/site-packages (from jsonschema!=2.5.0,>=2.4->nbformat->jupyter-server<2.0.0,>=0.3.0->voila) (21.2.0)\n",
      "Requirement already satisfied: pyrsistent>=0.14.0 in /anaconda/envs/fastai2/lib/python3.7/site-packages (from jsonschema!=2.5.0,>=2.4->nbformat->jupyter-server<2.0.0,>=0.3.0->voila) (0.18.0)\n",
      "Requirement already satisfied: setuptools in /anaconda/envs/fastai2/lib/python3.7/site-packages (from jsonschema!=2.5.0,>=2.4->nbformat->jupyter-server<2.0.0,>=0.3.0->voila) (52.0.0.post20210125)\n",
      "Requirement already satisfied: importlib-metadata in /anaconda/envs/fastai2/lib/python3.7/site-packages (from jsonschema!=2.5.0,>=2.4->nbformat->jupyter-server<2.0.0,>=0.3.0->voila) (3.10.1)\n",
      "Requirement already satisfied: ptyprocess in /anaconda/envs/fastai2/lib/python3.7/site-packages (from terminado>=0.8.3->jupyter-server<2.0.0,>=0.3.0->voila) (0.7.0)\n",
      "Requirement already satisfied: cffi>=1.0.0 in /anaconda/envs/fastai2/lib/python3.7/site-packages (from argon2-cffi->jupyter-server<2.0.0,>=0.3.0->voila) (1.14.6)\n",
      "Requirement already satisfied: pycparser in /anaconda/envs/fastai2/lib/python3.7/site-packages (from cffi>=1.0.0->argon2-cffi->jupyter-server<2.0.0,>=0.3.0->voila) (2.20)\n",
      "Requirement already satisfied: packaging in /anaconda/envs/fastai2/lib/python3.7/site-packages (from bleach->nbconvert<7,>=6.0.0->voila) (21.0)\n",
      "Requirement already satisfied: webencodings in /anaconda/envs/fastai2/lib/python3.7/site-packages (from bleach->nbconvert<7,>=6.0.0->voila) (0.5.1)\n",
      "Requirement already satisfied: zipp>=0.5 in /anaconda/envs/fastai2/lib/python3.7/site-packages (from importlib-metadata->jsonschema!=2.5.0,>=2.4->nbformat->jupyter-server<2.0.0,>=0.3.0->voila) (3.5.0)\n",
      "Requirement already satisfied: pyparsing>=2.0.2 in /anaconda/envs/fastai2/lib/python3.7/site-packages (from packaging->bleach->nbconvert<7,>=6.0.0->voila) (2.4.7)\n",
      "Requirement already satisfied: requests>=1.1 in /anaconda/envs/fastai2/lib/python3.7/site-packages (from requests-unixsocket->jupyter-server<2.0.0,>=0.3.0->voila) (2.26.0)\n",
      "Requirement already satisfied: urllib3>=1.8 in /anaconda/envs/fastai2/lib/python3.7/site-packages (from requests-unixsocket->jupyter-server<2.0.0,>=0.3.0->voila) (1.26.6)\n",
      "Requirement already satisfied: certifi>=2017.4.17 in /anaconda/envs/fastai2/lib/python3.7/site-packages (from requests>=1.1->requests-unixsocket->jupyter-server<2.0.0,>=0.3.0->voila) (2021.5.30)\n",
      "Requirement already satisfied: charset-normalizer~=2.0.0 in /anaconda/envs/fastai2/lib/python3.7/site-packages (from requests>=1.1->requests-unixsocket->jupyter-server<2.0.0,>=0.3.0->voila) (2.0.3)\n",
      "Enabling: voila\n",
      "- Writing config: /anaconda/envs/fastai2/etc/jupyter\n",
      "    - Validating...\n",
      "      voila 0.2.10 \u001b[32mOK\u001b[0m\n"
     ]
    }
   ],
   "source": [
    "!pip install voila\n",
    "!jupyter serverextension enable --sys-prefix voila"
   ]
  },
  {
   "cell_type": "code",
   "execution_count": null,
   "id": "d7c7827b-be3c-4efc-a415-046d161a20cb",
   "metadata": {},
   "outputs": [],
   "source": []
  },
  {
   "cell_type": "code",
   "execution_count": null,
   "id": "90960d66-febb-421a-b562-4f7111edbafa",
   "metadata": {},
   "outputs": [],
   "source": []
  }
 ],
 "metadata": {
  "kernelspec": {
   "display_name": "fastai2",
   "language": "python",
   "name": "conda-env-fastai2-py"
  },
  "language_info": {
   "codemirror_mode": {
    "name": "ipython",
    "version": 3
   },
   "file_extension": ".py",
   "mimetype": "text/x-python",
   "name": "python",
   "nbconvert_exporter": "python",
   "pygments_lexer": "ipython3",
   "version": "3.7.10"
  }
 },
 "nbformat": 4,
 "nbformat_minor": 5
}
